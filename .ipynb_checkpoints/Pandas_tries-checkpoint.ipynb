{
 "cells": [
  {
   "cell_type": "markdown",
   "id": "0adeb5a4",
   "metadata": {},
   "source": [
    "## Pandas intro\n",
    "pandas is a data analysis tool\n",
    "pandas finds max min and correlation in data"
   ]
  },
  {
   "cell_type": "code",
   "execution_count": 4,
   "id": "4329288d",
   "metadata": {},
   "outputs": [
    {
     "name": "stdout",
     "output_type": "stream",
     "text": [
      "2.0.3\n"
     ]
    }
   ],
   "source": [
    "import pandas as pd\n",
    "print(pd.__version__)"
   ]
  },
  {
   "cell_type": "markdown",
   "id": "9a1350a7",
   "metadata": {},
   "source": [
    "# Series\n",
    "pd.Series()\n",
    "series are one dimensional"
   ]
  },
  {
   "cell_type": "code",
   "execution_count": 10,
   "id": "0478a8bf",
   "metadata": {},
   "outputs": [
    {
     "name": "stdout",
     "output_type": "stream",
     "text": [
      "0       BMW\n",
      "1    Porche\n",
      "2     Lexus\n",
      "dtype: object\n"
     ]
    }
   ],
   "source": [
    "cars= pd.Series([\"BMW\",\"Porche\",\"Lexus\"])\n",
    "print(cars)"
   ]
  },
  {
   "cell_type": "markdown",
   "id": "e537fe1b",
   "metadata": {},
   "source": [
    "## Data Frame\n",
    "it is two dimensional \n",
    "Data frame has dictionary like key and value pairs"
   ]
  },
  {
   "cell_type": "code",
   "execution_count": 12,
   "id": "f2f2621c",
   "metadata": {},
   "outputs": [
    {
     "data": {
      "text/plain": [
       "0      red\n",
       "1     grey\n",
       "2    white\n",
       "dtype: object"
      ]
     },
     "execution_count": 12,
     "metadata": {},
     "output_type": "execute_result"
    }
   ],
   "source": [
    "colors= pd.Series([\"red\", \"grey\", \"white\"])\n",
    "colors"
   ]
  },
  {
   "cell_type": "code",
   "execution_count": 16,
   "id": "318c2c26",
   "metadata": {},
   "outputs": [
    {
     "data": {
      "text/html": [
       "<div>\n",
       "<style scoped>\n",
       "    .dataframe tbody tr th:only-of-type {\n",
       "        vertical-align: middle;\n",
       "    }\n",
       "\n",
       "    .dataframe tbody tr th {\n",
       "        vertical-align: top;\n",
       "    }\n",
       "\n",
       "    .dataframe thead th {\n",
       "        text-align: right;\n",
       "    }\n",
       "</style>\n",
       "<table border=\"1\" class=\"dataframe\">\n",
       "  <thead>\n",
       "    <tr style=\"text-align: right;\">\n",
       "      <th></th>\n",
       "      <th>Car Company</th>\n",
       "      <th>color</th>\n",
       "    </tr>\n",
       "  </thead>\n",
       "  <tbody>\n",
       "    <tr>\n",
       "      <th>0</th>\n",
       "      <td>BMW</td>\n",
       "      <td>red</td>\n",
       "    </tr>\n",
       "    <tr>\n",
       "      <th>1</th>\n",
       "      <td>Porche</td>\n",
       "      <td>grey</td>\n",
       "    </tr>\n",
       "    <tr>\n",
       "      <th>2</th>\n",
       "      <td>Lexus</td>\n",
       "      <td>white</td>\n",
       "    </tr>\n",
       "  </tbody>\n",
       "</table>\n",
       "</div>"
      ],
      "text/plain": [
       "  Car Company  color\n",
       "0         BMW    red\n",
       "1      Porche   grey\n",
       "2       Lexus  white"
      ]
     },
     "execution_count": 16,
     "metadata": {},
     "output_type": "execute_result"
    }
   ],
   "source": [
    "# Data frame has dictionary like key and value pairs\n",
    "car_data= pd.DataFrame({\"Car Company\": cars, \"color\": colors})\n",
    "car_data"
   ]
  },
  {
   "cell_type": "markdown",
   "id": "ee171552",
   "metadata": {},
   "source": [
    "## Importing CSV Values\n",
    "pd.read_csv(\"file.csv\")"
   ]
  },
  {
   "cell_type": "code",
   "execution_count": null,
   "id": "36b2ed28",
   "metadata": {},
   "outputs": [],
   "source": []
  }
 ],
 "metadata": {
  "kernelspec": {
   "display_name": "Python 3 (ipykernel)",
   "language": "python",
   "name": "python3"
  },
  "language_info": {
   "codemirror_mode": {
    "name": "ipython",
    "version": 3
   },
   "file_extension": ".py",
   "mimetype": "text/x-python",
   "name": "python",
   "nbconvert_exporter": "python",
   "pygments_lexer": "ipython3",
   "version": "3.11.3"
  }
 },
 "nbformat": 4,
 "nbformat_minor": 5
}
